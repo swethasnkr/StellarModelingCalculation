{
 "cells": [
  {
   "cell_type": "markdown",
   "metadata": {
    "id": "ddx_UCeE-CTH"
   },
   "source": [
    "# Modeling the Interior of a Star: A Case Study of the Sun\n"
   ]
  },
  {
   "cell_type": "markdown",
   "metadata": {
    "id": "fjFcBhNS-CTL"
   },
   "source": [
    "# Motivation\n",
    "\n",
    "The interior of stars is a complex and dynamic system that is challenging to study directly. I aim to model the interior of a star using parameters and functions provided in class. Specifically, I will focus on modelling the Sun, as we have been provided with the necessary constants and parameters in our coursework. The purpose of this notebook is to demonstrate the process of modelling the interior of the Sun and to provide insights into its structure and behavior.\n",
    "\n",
    "\n",
    "\n",
    "\n",
    "\n",
    "\n",
    "\n",
    "## Part 1: Creating Functions to Compute Necessary Parameters\n",
    "The first section of the code primarily consists of functions that calculate parameters required for modelling stellar interiors. These functions are designed to be easily integrated into larger computational models. The parameters calculated by these functions include the opacity, energy generation rate and the density of the stellar interior. The functions utilize the equations and constants provided in relevant literature.\n"
   ]
  },
  {
   "cell_type": "markdown",
   "metadata": {
    "id": "mR_v83sp-CTM"
   },
   "source": [
    "### Importing Packages and Setting Constants"
   ]
  },
  {
   "cell_type": "code",
   "execution_count": 188,
   "metadata": {
    "id": "iyplu2Uh-CTN"
   },
   "outputs": [],
   "source": [
    "#import necessary packages\n",
    "import pandas as pd\n",
    "import numpy as np\n",
    "from scipy.interpolate import interp2d\n",
    "from scipy.interpolate import RegularGridInterpolator\n",
    "from scipy import interpolate\n",
    "import math\n",
    "from scipy.integrate import solve_ivp\n",
    "from scipy import optimize\n",
    "from matplotlib import pyplot as plt"
   ]
  },
  {
   "cell_type": "code",
   "execution_count": 189,
   "metadata": {
    "id": "EzCXSD63-CTO"
   },
   "outputs": [],
   "source": [
    "# Setting Constants\n",
    "\n",
    "#General\n",
    "G = 6.67259e-8 # cm^3/g/s^2\n",
    "sb = 5.67051e-5 # erg cm^-2 K^-4 s^-1\n",
    "c = 2.99792458e10 # cm/s\n",
    "\n",
    "# Stellar Constants\n",
    "M = 1.989e+33 # solar mass\n",
    "Rs = 6.96e10 # cm\n",
    "Ls = 3.826e33 #\n",
    "\n",
    "# Mass Fractions\n",
    "X = 0.7\n",
    "Y = 0.28\n",
    "Z = 0.02\n",
    "\n",
    "# Constants for energy generation rate\n",
    "k_B = 1.380658e-16  # Boltzmann constant (erg/K)\n",
    "m_H = 1.6738e-24 # Mass of a hydrogen atom in g\n",
    "a = 7.5646e-15 # 4*sb/c\n",
    "N_A = 6.02214076e23 # Avogadro's number\n",
    "\n",
    "# Assuming complete ionization and Z << 1, taken from Stellar Physics text:\n",
    "mu_e = 2 / (1 + X)\n",
    "mu_I = 4 / (1 + 3*X)\n",
    "\n",
    "mu = (mu_I*mu_e) / (mu_I + mu_e)\n",
    "\n",
    "# Define mass increment\n",
    "m_r = M*1e-9"
   ]
  },
  {
   "cell_type": "markdown",
   "metadata": {
    "id": "z_b5XAhp-CTP"
   },
   "source": [
    "### Opacity\n",
    "This function reads in an existing opacity table obtained from the OPAL website: <https://opalopacity.llnl.gov/>. The values in the table headers are given in terms of R and T, while the bulk of the table provides opacity values at a specific radius and temperature.\n",
    "\n",
    "The table and its values are first interpolated using the date from the excel file. To adapt the code to the table values, input density ($\\rho$) is first converted into radius log$R$. Ranges are set to log$T$ and log$R$ to ensure that table values are not being exceeded. "
   ]
  },
  {
   "cell_type": "code",
   "execution_count": 190,
   "metadata": {
    "id": "q3RiKZbg-CTP"
   },
   "outputs": [],
   "source": [
    "# Path to OPAL opacity file\n",
    "opacity_file = '/Users/swethasankar/Downloads/stellarModeling_solarOpacityTable.xlsx'"
   ]
  },
  {
   "cell_type": "code",
   "execution_count": 191,
   "metadata": {
    "id": "AW7naQw4-CTQ"
   },
   "outputs": [],
   "source": [
    "# Read in the opacity table from the .xlsx file\n",
    "opacity_table = pd.read_excel(opacity_file, header=0, index_col=0)\n",
    "\n",
    "# Identify appropriate values for logR, logT, and opacity from table\n",
    "logR = opacity_table.columns.values.astype(float) \n",
    "logT = opacity_table.index.values.astype(float)\n",
    "opacity = opacity_table.values.astype(float)\n",
    "\n",
    "\n",
    "interpolator = RegularGridInterpolator((logT, logR), opacity)\n",
    "\n",
    "def interpolate_opacity_table(density, temperature): \n",
    "        \n",
    "    # Check if input is out of range\n",
    "    log_T = np.log10(temperature)\n",
    "    if density <= 0. :\n",
    "        log_rho = 3 * log_T - 18 - 8. \n",
    "    else :\n",
    "        log_rho = np.log10(density)\n",
    "    \n",
    "    # Convert input density to logR so it can be fed to interpolator\n",
    "    logR_setting = log_rho - (3 * log_T) + 18\n",
    "    \n",
    "    # Make sure input is within bounds\n",
    "    logR_setting = np.maximum(logR_setting, -8.)\n",
    "    logT = np.maximum(log_T, 3.75)\n",
    "    \n",
    "    opacity = 10**(interpolator([logT, logR_setting])[0])\n",
    "        \n",
    "    return opacity\n"
   ]
  },
  {
   "cell_type": "markdown",
   "metadata": {
    "id": "JNZZgM16-CTR"
   },
   "source": [
    "### Energy Generation Rate\n",
    "\n",
    "The energy generation rate from hydrogen fusion takes into account several parameters, including density ($\\rho$) in $g$ $cm^{-3}$, temperature ($T$) in $K$, hydrogen mass fraction ($X$), and metal mass fraction ($Z$).\n",
    "\n",
    "The equations used in the following function are sourced from Chapter 18 of Stellar Structure and Evolution (Second Edition). The values of $\\psi$, $\\xi$, and $z1z2$ are also taken from the text and are used as constants throughout the function."
   ]
  },
  {
   "cell_type": "code",
   "execution_count": 193,
   "metadata": {
    "id": "Dpo56goz-CTS"
   },
   "outputs": [],
   "source": [
    "def energy_generation_rate(rho, T):\n",
    "    \n",
    "    T9 = T / 1e9 # temperature in 10^9 K\n",
    "    T7 = T / 1e7 # temperature in 10^7 K\n",
    "    psi = 1.5 # correction factor for the reaction rate\n",
    "    \n",
    "    xi = 1. \n",
    "    z1z2 = 1.  \n",
    "    \n",
    "    f11 = 5.92e-3 * z1z2 * ((rho*xi)/(T7**3))**(1./2) # shielding factor for the proton-proton reaction\n",
    "    g11 = 1. + 3.82*T9 + 1.51*(T9**2) + 0.144*(T9**3) + 0.0114*(T9**4) \n",
    "    g_141 = 1. - 2.00*T9 + 3.41*(T9**2) -2.43*(T9**3)\n",
    "    \n",
    "    X_C = 0.1733*Z\n",
    "    X_N = 0.0532*Z\n",
    "    X_O = 0.4823*Z\n",
    "    \n",
    "    X_CNO = X_C + X_N + X_O\n",
    "    \n",
    "    e_pp = 2.57e4*psi*f11*g11*(X**2)*rho*(T9**(-2/3))*math.exp(-3.381/T9**(1./3))\n",
    "    e_cno = 8.24e25 * g_141 * X_CNO * X * rho * T9**(-2./3) * math.exp(-15.231*T9**(-1./3) - (T9/0.8)**(2))\n",
    "    \n",
    "    e_tot = e_pp + e_cno\n",
    "    \n",
    "    return e_tot\n"
   ]
  },
  {
   "cell_type": "markdown",
   "metadata": {
    "id": "BcDNjm7J-CTS"
   },
   "source": [
    "### Density\n",
    "\n",
    "Given the pressure $P$, temperature $T$, and composition $X$ and assuming complete ionization, we calculate the density (including the effect of radiation pressure and ideal gas pressure) in $g$ $cm^{-3}$.\n",
    "\n",
    "The Pressure equation used is:\n",
    "$P$ = $P_{g} + P_{rad}$, \n",
    "where $P_{g}$ = $\\frac{\\rho N_{A} kT}{\\mu m_{H}}$ and $P_{rad}$ = $\\frac{1}{3}$ $aT^{4}$.\n",
    "\n",
    "Rearranging and solving for $\\rho$, we find:\n",
    "$\\rho$ = $(P - P_{g})$$\\frac{\\mu}{N_{A} kT}$. \n",
    "\n"
   ]
  },
  {
   "cell_type": "code",
   "execution_count": 194,
   "metadata": {
    "id": "7Pgdsmm--CTT"
   },
   "outputs": [],
   "source": [
    "# Solving for density using ideal gas and radiation pressure \n",
    "def density_from_pressure(P, T):\n",
    "        return np.maximum(0., (P/T - ((a * T**(3.)) / 3.) )* ((mu) / (N_A * k_B)) )\n",
    "                                    "
   ]
  },
  {
   "cell_type": "markdown",
   "metadata": {},
   "source": [
    "### Temperature Gradients\n",
    "\n",
    "The following equations for the adiabatic and convective temperature gradients are taken from the Stellar Physics text."
   ]
  },
  {
   "cell_type": "code",
   "execution_count": 195,
   "metadata": {
    "id": "Y3YJ0rCT-CTT"
   },
   "outputs": [],
   "source": [
    "# This function calculates the radiative temperature gradient\n",
    "def del_rad(m, l, P, T) :\n",
    "    \n",
    "    rho = density_from_pressure(P, T)  \n",
    "    \n",
    "    return 3*P*interpolate_opacity_table(rho, T)*l/ (16*np.pi*a*c*T**4*G*m)\n"
   ]
  },
  {
   "cell_type": "code",
   "execution_count": 196,
   "metadata": {
    "id": "9uE32aUs-CTU"
   },
   "outputs": [],
   "source": [
    "# This function calculates teh adiabatic temperature gradient\n",
    "def del_convec(P, T) :\n",
    "    rho = density_from_pressure(P, T)    \n",
    "    beta = ((rho*N_A*k_B*T)/mu) / P\n",
    "    \n",
    "    return 2 * (4 - 3*beta) / (32 - 24*beta -3*beta**2) # from equation 3.111 in the text\n"
   ]
  },
  {
   "cell_type": "markdown",
   "metadata": {
    "id": "bCdsJGYo-CTU"
   },
   "source": [
    "## Part 2: Setting Initial Conditions"
   ]
  },
  {
   "cell_type": "markdown",
   "metadata": {
    "id": "XXIVPUPd-CTU"
   },
   "source": [
    "### Near Center\n",
    "\n",
    "For stellar modeling, I use the shooting method, which is described in the <http://numerical.recipes/book/book.html>, which requires both outward integrations and inward integrations.  \n",
    "\n",
    "A point slightly away from the stellar center is chosen to set these conditions as singularities occur at m = r = 0. Thus, we use taylor expansions for $P_{init}$ and $T_{init}$, which were derived in session 18 during class. The $r_{init}$ and $l_{init}$ are general known equations for the stellar interior. I find the need to only specify Pc and Tc as the rest of the initial conditions can be derived from those parameters.\n",
    "\n",
    "\n",
    "1.  $P_{init}$ = $P_{c}$ $-$ $\\frac{3G}{8\\pi}$ $\\times$ $\\frac{4\\pi\\rho_{c}}{3}^{\\frac{4}{3}}$ $\\times$  $m_{r}^{\\frac{2}{3}}$\n",
    "\n",
    "2.  $T_{init}$ = ( $T_{c}^{4} - \\frac{1}{2ac} \\times \\frac{3}{4\\pi}^{\\frac{2}{3}} \\times \\kappa_{c} \\epsilon_{c} \\rho_{c}^{\\frac{4}{3}}m_{r}^{\\frac{2}{3}} )^{\\frac{1}{4}}$\n",
    "\n",
    "3.  $r_{init}$ = $(\\frac{3m_{r}}{4\\pi\\rho_{c}})^{\\frac{1}{3}}$ \n",
    "\n",
    "4. $l_{init}$ = $\\epsilon m_{r}$"
   ]
  },
  {
   "cell_type": "code",
   "execution_count": 197,
   "metadata": {
    "id": "01SFPcQD-CTV"
   },
   "outputs": [],
   "source": [
    "# Setting initial guesses for integrating from the center of the star outwards\n",
    "def load1(Pc, Tc):\n",
    "    \n",
    "    rho_c = density_from_pressure(Pc, Tc)\n",
    "    epsilon_c = energy_generation_rate(rho_c, Tc)\n",
    "    opacity_c = interpolate_opacity_table(rho_c, Tc)\n",
    "    \n",
    "    l_in = epsilon_c * m_r\n",
    "    r_in = ((3 * m_r) / (4 * np.pi * rho_c))**(1./3)\n",
    "    \n",
    "    \n",
    "    # I assume a radiative core for the low mass ZAMS star chosen and pick a point near the stellar center\n",
    "    # Taylor expansion is required\n",
    "    T_in = (Tc**4 - 1./(2*a*c) * (3./(4*np.pi))**(2./3) * \n",
    "              opacity_c * epsilon_c * rho_c**(4./3) * m_r**(2./3))**(1./4)\n",
    "    \n",
    "    P_in = Pc - ((3 * G) / (8 * np.pi)) * ((4 * np.pi)/(3 * rho_c))**(4/3) * m_r**(2/3)\n",
    "    \n",
    "    return [r_in, l_in, P_in, T_in]\n"
   ]
  },
  {
   "cell_type": "markdown",
   "metadata": {
    "id": "EhOwrbRV-CTV"
   },
   "source": [
    "### Near Surface\n",
    "\n",
    "Assuming the envelope extends to infinity, we cannot set the surface conditions for the star equal to 0 (i.e $P$ = 0 and $T$ = 0). Instead we assume the eddington approximation at a layer slightly below the surface of the star, where $\\tau=\\frac{2}{3}$. The value of $\\tau=\\frac{2}{3}$ is significant because it corresponds to the point in the star where the optical depth is just large enough to cause most of the visible light to be absorbed or scattered, but not so large that the star appears completely opaque. This depth can be taken as the photosphere, and it is the layer of the star where most of the visible light that we observe is emitted. Similar to above, I only find the need to specify two parameters, $R$ and $L$, which can be used to derive the other initial conditions. The functions used are given below:\n",
    "\n",
    "1. $P_{surf} = \\frac{GM}{R^{2}}\\int_{0}^{\\tau} \\frac{1}{\\kappa(\\rho, T)} d\\tau$ \n",
    "2. $T_{surf} = \\frac{3}{4}T_{eff}(\\tau + \\frac{2}{3})$\n",
    "3. $r_{surf} = R$\n",
    "4. $l_{surf} = L$\n",
    "\n"
   ]
  },
  {
   "cell_type": "code",
   "execution_count": 198,
   "metadata": {
    "id": "JHiFWjQQ-CTW"
   },
   "outputs": [],
   "source": [
    "def calculate_temperature(T_eff, tau):\n",
    "    return T_eff * (3./4 * (tau + 2./3))**(1./4)\n",
    "\n",
    "# Define a function to calculate the change in pressure as a function of optical depth tau and pressure P\n",
    "def calculate_dP(R, M, G, interpolate_opacity_table, T):\n",
    "    \n",
    "    def dP(tau, P):\n",
    "        # Calculate the density from pressure and temperature\n",
    "        density = density_from_pressure(P, T(tau))\n",
    "        # Interpolate the opacity value from a table using the density and temperature\n",
    "        opacity = interpolate_opacity_table(density, T(tau))\n",
    "        \n",
    "        # Calculate the change in pressure using the opacity value\n",
    "        return ((G * M) / R**2) * 1. / opacity\n",
    "    \n",
    "    return dP\n",
    "\n",
    "\n",
    "def load2(R, L):\n",
    "    # Calculate the effective temperature\n",
    "    T_eff = (L / (4 * np.pi * R**2 * sb))**(1./4)\n",
    "\n",
    "    # Define a function to calculate the pressure at the photosphere\n",
    "    def calculate_pressure_at_photosphere(R, M, G, interpolate_opacity_table, T, tau_photos):\n",
    "        sol = solve_ivp(calculate_dP(R, M, G, interpolate_opacity_table, T), [0, tau_photos], [0])\n",
    "        return sol.y[0][-1]\n",
    "\n",
    "    # Set the value of tau at the photosphere to 2/3\n",
    "    tau_photos = 2./3\n",
    "    \n",
    "    # Calculate the pressure and temperature at the photosphere\n",
    "    P_surf = calculate_pressure_at_photosphere(R, M, G, interpolate_opacity_table, \n",
    "                                               lambda tau: calculate_temperature(T_eff, tau), tau_photos)\n",
    "    T_surf = calculate_temperature(T_eff, tau_photos)\n",
    "\n",
    "    return [R, L, P_surf, T_surf]"
   ]
  },
  {
   "cell_type": "markdown",
   "metadata": {
    "id": "gw_lZYYd-CTW"
   },
   "source": [
    "## Part 3: Defining Integration Functions\n",
    "\n",
    "The following function takes the independent variable $m$ and the dependent variables $P,$ $l,$ $r,$ and $T$ and returns the derivatives $\\frac{dP}{dm}, \\frac{dl}{dm}, \\frac{dr}{dm},$ and $\\frac{dT}{dm}$ in the form of ordinary differential equations (ODEs). "
   ]
  },
  {
   "cell_type": "code",
   "execution_count": 199,
   "metadata": {
    "id": "wcoP4ZIn-CTW"
   },
   "outputs": [],
   "source": [
    "#dPdm\n",
    "def dP_dm(m, r):\n",
    "    return (-G*m)/(4*np.pi*r**4)\n",
    "\n",
    "#drdm\n",
    "def dr_dm(r, rho):\n",
    "    return 1/(4*np.pi*r**2*rho)\n",
    "\n",
    "#define temperature gradient at all points of the star\n",
    "def delta(m, l, P, T):\n",
    "    rad_del = del_rad(m, l, P, T)\n",
    "    del_ad = del_convec(P, T)\n",
    "    \n",
    "    if rad_del <= del_ad:\n",
    "        return True, rad_del\n",
    "    else:\n",
    "        return False, del_ad\n",
    "\n",
    "# setting functions for integration    \n",
    "def derivs(m, soln_arr) :\n",
    "    r, l, P, T = soln_arr\n",
    "    \n",
    "    rho = density_from_pressure(P, T)\n",
    "    \n",
    "    dldm = energy_generation_rate(rho, T)\n",
    "    drdm = dr_dm(r, rho)\n",
    "    dPdm = dP_dm(m, r)\n",
    "    \n",
    "    val, nabla = delta(m, l, P, T)\n",
    "    \n",
    "    dTdm = (-G*m*T*nabla) /(4*P*np.pi*r**4)\n",
    "        \n",
    "    return [drdm, dldm, dPdm, dTdm]"
   ]
  },
  {
   "cell_type": "markdown",
   "metadata": {
    "id": "DD-_dqBt-CTX"
   },
   "source": [
    "## Part 4: Integrating from Center to Surface and Surface to Center\n",
    "\n",
    "### Setting Parameters\n",
    "\n",
    "The initial guess for the Sun was based on the constant density model. However, this guess was significantly different from the actual values of the Sun and failed to converge. This outcome confirms that the constant density model is not an accurate representation of the Sun. \n",
    "\n",
    "For this code, guesses closer to the known values of the Sun's central pressure and temperature were set instead."
   ]
  },
  {
   "cell_type": "code",
   "execution_count": 200,
   "metadata": {},
   "outputs": [],
   "source": [
    "# Initial guesses for the values for the Sun - note that this code is very sensitive to these guesses\n",
    "init_guessR = Rs \n",
    "init_guessL = Ls \n",
    "init_guessPc = 2.65e17#2e17\n",
    "init_guessTc = 1.5e7#2e7\n",
    "\n",
    "# Constant density model guess\n",
    "\n",
    "#ctd_Pcguess = 3/(8*np.pi) * (G*M**2)/init_guessR**4 \n",
    "#ctd_Tcguess = G*M*mu/(2*init_guessR*N_A*k_B) \n",
    "\n",
    "first_guess = [init_guessR, init_guessL, init_guessPc, init_guessTc]\n",
    "#first_guess = [init_guessR, init_guessL, ctd_Pcguess, ctd_Pcguess]"
   ]
  },
  {
   "cell_type": "code",
   "execution_count": 201,
   "metadata": {},
   "outputs": [],
   "source": [
    "# Setting parameters to run integration\n",
    "shooting_frac = 0.2\n",
    "nsteps = 1000\n",
    "bound = shooting_frac * M "
   ]
  },
  {
   "cell_type": "markdown",
   "metadata": {},
   "source": [
    "### Integrating\n",
    "\n",
    "The function 'shootf' performs integration in two directions: from the center of the Sun outwards and from the surface of the Sun inwards. It takes into account the specified boundary conditions and initial values."
   ]
  },
  {
   "cell_type": "code",
   "execution_count": 202,
   "metadata": {},
   "outputs": [],
   "source": [
    "def solve_outward_segment(Pc, Tc):\n",
    "    t_eval = np.linspace(m_r, bound, 500) # to smooth the curve\n",
    "\n",
    "    return solve_ivp(derivs, [m_r, bound], load1(Pc, Tc), t_eval = t_eval)\n",
    "\n",
    "def solve_inward_segment(R, L):\n",
    "    t_eval = np.linspace(M, bound, 500)\n",
    "    return solve_ivp(derivs, [M, bound], load2(R, L), t_eval=t_eval)\n",
    "\n",
    "\n",
    "def shootf(x):\n",
    "    \n",
    "    R, L, Pc, Tc = x\n",
    "    out_int = solve_outward_segment(Pc, Tc)\n",
    "    in_int = solve_inward_segment(R, L)\n",
    "    return out_int, in_int"
   ]
  },
  {
   "cell_type": "markdown",
   "metadata": {
    "id": "rPsJvyLO-CTX"
   },
   "source": [
    "Convergence is assessed by calculating the difference between the endpoints of the integration. If this difference is zero, the code has converged. If the difference is non-zero, it indicates that the initial conditions need to be adjusted and the code should be rerun."
   ]
  },
  {
   "cell_type": "code",
   "execution_count": 203,
   "metadata": {
    "id": "CXhgM4j6-CTY"
   },
   "outputs": [],
   "source": [
    "# Calculate the loss for each dimension of the solution\n",
    "def calculate_loss(out_int, in_int):\n",
    "    outint_final = out_int.y[:, -1]\n",
    "    inint_final = in_int.y[:, -1]\n",
    "    diff = 2 * (outint_final - inint_final) / (outint_final + inint_final)\n",
    "        \n",
    "    return diff"
   ]
  },
  {
   "cell_type": "code",
   "execution_count": 204,
   "metadata": {
    "id": "LNyhi1Ov-CTY"
   },
   "outputs": [],
   "source": [
    "# Plot the results for luminosity\n",
    "def plot_results(out_int, in_int, title, subplot_index):\n",
    "    plt.subplot(2, 2, subplot_index)\n",
    "    plt.plot(out_int.t/M, out_int.y[1]/Ls, c='indianred', linestyle='-', label='Outward Integration')\n",
    "    plt.plot(in_int.t/M, in_int.y[1]/Ls, c='skyblue', linestyle='-', label='Inward Integration')\n",
    "    plt.legend()\n",
    "    plt.ylabel('l/L$_\\odot$', fontsize=14)\n",
    "    plt.xlabel('m/M$_\\odot$', fontsize=14)\n",
    "    plt.axvline(x=0.2, linestyle='--', color='black')\n",
    "    plt.title('({}) {}'.format(chr(96+subplot_index), title), fontsize=14)\n",
    "\n",
    "    \n",
    "counter = 0\n",
    "# Solves the boundary value problem and iterates until convergence \n",
    "def iterate(x):\n",
    "    global counter\n",
    "    counter += 1\n",
    "\n",
    "    out_int, in_int = shootf(x)\n",
    "    loss = calculate_loss(out_int, in_int)\n",
    "\n",
    "\n",
    "    # Plot functions at iterations as a sanity check\n",
    "    \n",
    "    # Plot initial guess\n",
    "    if counter == 1:\n",
    "        fig = plt.figure(figsize=(12, 10))\n",
    "        plot_results(out_int, in_int, \"1 Iterations\", 1)\n",
    "\n",
    "    # Plot intermediate results\n",
    "    if counter == 5:\n",
    "        plot_results(out_int, in_int, \"5 Iterations\", 2)\n",
    "\n",
    "    if counter == 10:\n",
    "        plot_results(out_int, in_int, \"10 Iterations\", 3)\n",
    "    \n",
    "    # Plot converged results\n",
    "    if counter == 18:\n",
    "        plot_results(out_int, in_int, \"18 Iterations\", 4)\n",
    "        plt.tight_layout()\n",
    "        plt.show()\n",
    "    \n",
    "    return loss\n"
   ]
  },
  {
   "cell_type": "markdown",
   "metadata": {
    "id": "WGREjQ9H-CTa"
   },
   "source": [
    "## Part 5: Running and Plotting Results"
   ]
  },
  {
   "cell_type": "code",
   "execution_count": 205,
   "metadata": {
    "colab": {
     "base_uri": "https://localhost:8080/",
     "height": 1000
    },
    "id": "eF6C_B7u-CTa",
    "outputId": "d8548cc2-ae35-4535-c496-968d87e6f04a",
    "scrolled": false
   },
   "outputs": [
    {
     "data": {
      "image/png": "[encoded data removed]",
      "text/plain": [
       "<Figure size 864x720 with 4 Axes>"
      ]
     },
     "metadata": {
      "needs_background": "light"
     },
     "output_type": "display_data"
    }
   ],
   "source": [
    "soln = optimize.root(iterate, first_guess)\n",
    "out_int, in_int = shootf(soln.x) #final converged functions\n",
    "out_guess, in_guess = shootf(first_guess) # run at initial conditions"
   ]
  },
  {
   "cell_type": "code",
   "execution_count": 206,
   "metadata": {},
   "outputs": [
    {
     "name": "stdout",
     "output_type": "stream",
     "text": [
      "Number of Iterations Until Convergence: \n",
      "19\n"
     ]
    }
   ],
   "source": [
    "# check the number of integrations run before convergence\n",
    "print('Number of Iterations Until Convergence: ')\n",
    "print(counter)"
   ]
  },
  {
   "cell_type": "code",
   "execution_count": 207,
   "metadata": {},
   "outputs": [
    {
     "data": {
      "text/plain": [
       "<matplotlib.lines.Line2D at 0x7f8d3ac29a10>"
      ]
     },
     "execution_count": 207,
     "metadata": {},
     "output_type": "execute_result"
    },
    {
     "data": {
      "image/png": "[encoded data removed]",
      "text/plain": [
       "<Figure size 432x288 with 1 Axes>"
      ]
     },
     "metadata": {
      "needs_background": "light"
     },
     "output_type": "display_data"
    }
   ],
   "source": [
    "# Plot example of converged function for temperature\n",
    "\n",
    "plt.plot(out_int.t / M, out_int.y[3], c='indianred', linestyle='-',  label='Outward Integration')\n",
    "plt.plot(in_int.t/M, in_int.y[3] , c='skyblue', linestyle='-', label='Inward Integration')\n",
    "plt.legend()\n",
    "plt.tick_params(axis='both', which='major', labelsize=12)\n",
    "plt.yscale('log')\n",
    "plt.ylabel('T (K)', fontsize=14) \n",
    "plt.xlabel('m/M$_\\odot$', fontsize=14)\n",
    "plt.axvline(x=0.2, linestyle='--', color='black')"
   ]
  },
  {
   "cell_type": "code",
   "execution_count": 208,
   "metadata": {},
   "outputs": [],
   "source": [
    "import mesa_reader as mr\n",
    "\n",
    "# load LOG directory\n",
    "fname = mr.MesaLogDir('/Users/swethasankar/mesa-r22.11.1/tutorial/LOGS')\n",
    "prof_data = fname.profile_data()"
   ]
  },
  {
   "cell_type": "code",
   "execution_count": 223,
   "metadata": {
    "id": "BSMqxYbq-CTc"
   },
   "outputs": [],
   "source": [
    "'''def plot_solns(out, inw, fig=None, ax=None, linestyle='-', log=False, checkMesa = False):\n",
    "    \n",
    "    if fig is None:\n",
    "        fig, ax = plt.subplots(4, 1, figsize=(12, 8), sharex=True)\n",
    "    \n",
    "    labels = ['r/R$_\\odot$', 'l/L$_\\odot$', 'P (dyne cm$^{-2}$)', 'T (K)']\n",
    "    \n",
    "    MESA_vals = [prof_data.R, prof_data.R, prof_data.P, prof_data.T]\n",
    "    y_values_out = [out.y[0]/Rs, out.y[1]/Ls, out.y[2], out.y[3]]\n",
    "    y_values_inw = [inw.y[0]/Rs, inw.y[1]/Ls, inw.y[2], inw.y[3]]\n",
    "    \n",
    "    for i, ax_sub in enumerate(ax):\n",
    "        ax_sub.plot(out.t/M, y_values_out[i], c='darkturquoise', linestyle=linestyle)\n",
    "        ax_sub.plot(inw.t/M, y_values_inw[i], c='darkturquoise', linestyle=linestyle)\n",
    "        \n",
    "        if checkMesa:\n",
    "            ax_sub.plot(out.t/M, y_values_out[i], c='darkturquoise', linestyle=linestyle)\n",
    "            ax_sub.plot(inw.t/M, y_values_inw[i], c='darkturquoise', linestyle=linestyle)\n",
    "            ax_sub.set_ylabel(labels[i], fontsize=14)\n",
    "            ax_sub.plot(prof_data.mass, MESA_vals[i], c='brown', linestyle=linestyle, label='MESA Model')\n",
    "            plt.legend()\n",
    "            \n",
    "        ax_sub.set_ylabel(labels[i], fontsize=14)\n",
    "        ax_sub.tick_params(axis='both', which='major', labelsize=12)\n",
    "        if i == 2 and log:\n",
    "            ax_sub.set_yscale('log')\n",
    "        if i == 3:\n",
    "            ax_sub.set_xlabel('m/M$_\\odot$', fontsize=14)\n",
    "    \n",
    "    fig.canvas.draw()\n",
    "    return fig, ax'''\n",
    "\n",
    "def plot_solns(out, inw, fig=None, ax=None, linestyle='-', log=False, checkMesa=False):\n",
    "    if fig is None:\n",
    "        fig, ax = plt.subplots(4, 1, figsize=(12, 8), sharex=True)\n",
    "\n",
    "    labels = ['r/R$_\\odot$', 'l/L$_\\odot$', 'P (dyne cm$^{-2}$)', 'T (K)']\n",
    "\n",
    "    MESA_vals = [prof_data.R, prof_data.R, prof_data.P, prof_data.T]\n",
    "    y_values_out = [out.y[0]/Rs, out.y[1]/Ls, out.y[2], out.y[3]]\n",
    "    y_values_inw = [inw.y[0]/Rs, inw.y[1]/Ls, inw.y[2], inw.y[3]]\n",
    "\n",
    "    for i, ax_sub in enumerate(ax):\n",
    "        ax_sub.plot(out.t/M, y_values_out[i], c='darkturquoise', linestyle=linestyle)\n",
    "        ax_sub.plot(inw.t/M, y_values_inw[i], c='darkturquoise', linestyle=linestyle)\n",
    "\n",
    "        if checkMesa:\n",
    "            ax_sub.plot(prof_data.mass, MESA_vals[i], c='brown', linestyle=linestyle, label='MESA Model')\n",
    "            ax_sub.plot(out.t/M, y_values_out[i], c='darkturquoise', linestyle=linestyle, label='This Work')\n",
    "            ax_sub.plot(inw.t/M, y_values_inw[i], c='darkturquoise', linestyle=linestyle)\n",
    "            if i == 0:\n",
    "                ax_sub.legend()\n",
    "\n",
    "        ax_sub.set_ylabel(labels[i], fontsize=14)\n",
    "        ax_sub.tick_params(axis='both', which='major', labelsize=12)\n",
    "        if i == 2 and log:\n",
    "            ax_sub.set_yscale('log')\n",
    "        if i == 3:\n",
    "            ax_sub.set_ylabel('m/M$_\\odot$', fontsize=14)\n",
    "\n",
    "    fig.canvas.draw()\n",
    "    return fig, ax\n",
    "\n"
   ]
  },
  {
   "cell_type": "code",
   "execution_count": 224,
   "metadata": {
    "id": "8dHQ9Pjw-CTe"
   },
   "outputs": [
    {
     "data": {
      "image/png": "[encoded data removed]",
      "text/plain": [
       "<Figure size 864x576 with 4 Axes>"
      ]
     },
     "metadata": {
      "needs_background": "light"
     },
     "output_type": "display_data"
    }
   ],
   "source": [
    "fig, ax = plot_solns(out_int, in_int, log=True)\n"
   ]
  },
  {
   "cell_type": "code",
   "execution_count": 225,
   "metadata": {},
   "outputs": [
    {
     "data": {
      "image/png": "[encoded data removed]",
      "text/plain": [
       "<Figure size 864x576 with 4 Axes>"
      ]
     },
     "metadata": {
      "needs_background": "light"
     },
     "output_type": "display_data"
    }
   ],
   "source": [
    "# CHANGE MESA's model from accessing radius to luminosity before rerunning\n",
    "fig, ax = plot_solns(out_int, in_int, checkMesa=True, log=True) "
   ]
  },
  {
   "cell_type": "markdown",
   "metadata": {},
   "source": [
    "### Creating LaTeX Table with Values"
   ]
  },
  {
   "cell_type": "code",
   "execution_count": 227,
   "metadata": {},
   "outputs": [],
   "source": [
    "# define function to check if shell is radiative or convective at a mass coordinate\n",
    "def radOrconv(m, l, P, T):\n",
    "    val, nabla = delta(m, l, P, T)\n",
    "    return 'Convective' if val else 'Radiative'\n",
    "\n",
    "#access all values from convergent solution\n",
    "mass_all = np.concatenate((out_int.t, in_int.t[::-1])).tolist()\n",
    "rad_all = np.concatenate((out_int.y[0], in_int.y[0][::-1])).tolist()\n",
    "lum_all = np.concatenate((out_int.y[1], in_int.y[1][::-1])).tolist()\n",
    "press_all = np.concatenate((out_int.y[2], in_int.y[2][::-1])).tolist()\n",
    "temp_all = np.concatenate((out_int.y[3], in_int.y[3][::-1])).tolist()\n",
    "\n",
    "\n",
    "# calculate each parameter at each mass coordinate based off of converged solution\n",
    "rho_conv = [density_from_pressure(press_all[i], temp_all[i]) for i in range(0, 1000)]\n",
    "epsilon_conv = [energy_generation_rate(rho_conv[i], temp_all[i]) for i in range(0, 1000)]\n",
    "opacity_conv = [interpolate_opacity_table(rho_conv[i], temp_all[i]) for i in range(0, 1000)]\n",
    "ad_conv = [del_convec(press_all[i], temp_all[i]) for i in range(0, 1000)]\n",
    "radCon = [radOrconv(mass_all[i], lum_all[i], press_all[i], temp_all[i]) for i in range(0, 1000)]\n",
    "\n",
    "dlnT = np.gradient(np.log(temp_all))\n",
    "dlnP = np.gradient(np.log(press_all))\n",
    "\n",
    "temp_grad = dlnT / dlnP #do we instead use -(r^2 P)/ (G m rho) (1/T) (dT/dr)?\n",
    " "
   ]
  },
  {
   "cell_type": "code",
   "execution_count": 245,
   "metadata": {},
   "outputs": [],
   "source": [
    "# Shorten number of mass coordinates to 20 to input into latex\n",
    "\n",
    "# Determine the step size for slicing\n",
    "step_size = len(mass_all) // 20\n",
    "\n",
    "# Shorten the lists using list slicing\n",
    "short_mass_coord = mass_all[::step_size]\n",
    "m_values = [i / M for i in short_mass_coord]\n",
    "\n",
    "short_rad = rad_all[::step_size]\n",
    "r_values = [i / Rs for i in short_rad]\n",
    "\n",
    "short_lum = lum_all[::step_size]\n",
    "l_values = [i / Ls for i in short_lum]\n",
    "\n",
    "press_values = np.log(press_all[::step_size])\n",
    "temp_values = np.log(temp_all[::step_size])\n",
    "\n",
    "# Shorten the remaining lists based on the shortened mass coordinate list\n",
    "rho_values = [rho_conv[i] for i in range(0, len(rho_conv), step_size)]\n",
    "energy_values = [epsilon_conv[i] for i in range(0, len(epsilon_conv), step_size)]\n",
    "opacity_values = [opacity_conv[i] for i in range(0, len(opacity_conv), step_size)]\n",
    "del_ad_values = [ad_conv[i] for i in range(0, len(ad_conv), step_size)]\n",
    "radCon_values = [radCon[i] for i in range(0, len(radCon), step_size)]\n",
    "temp_grad_values = [temp_grad[i] for i in range(0, len(radCon), step_size)]\n",
    "\n",
    "#print(r_values)"
   ]
  },
  {
   "cell_type": "code",
   "execution_count": 255,
   "metadata": {},
   "outputs": [
    {
     "name": "stdout",
     "output_type": "stream",
     "text": [
      "\\begin{deluxetable*}{|c|cccccccccc|}\n",
      "\\tablecaption{Your Table Caption}\n",
      "\\tablewidth{\\textwidth}\n",
      "\\tablehead{\\colhead{} & \\colhead{m (solar mass fraction - m/M)} & \\colhead{rho} & \\colhead{r (solar radius fraction - r/R)} & \\colhead{l (solar luminosity fraction l/Ls)} & \\colhead{P} & \\colhead{T} & \\colhead{energy generation rate} & \\colhead{opacity} & \\colhead{del_ad} & \\colhead{temp gradient} & \\colhead{convective/radiative nature}}\n",
      "\\startdata\n",
      "\\begin{tabular}{rrrrrrrrrrl}\n",
      "\\hline\n",
      "      &    | m &      \\$\r",
      "ho\\$ &    r &     l &     P &     T &   \\$\\textbackslash{}epsilon\\$ &   \\$\\textbackslash{}kappa\\$ &   \\$\\textbackslash{}Delta\\_\\{ad\\}\\$ & Nature of the Shell   \\\\\n",
      "\\hline\n",
      " 0.00 & 144.01 & 0.00 & 0.00 & 40.32 & 16.63 & 32.24 &         1.25 &       0.40 &            0.40 & Radiative             \\\\\n",
      " 0.02 & 131.48 & 0.06 & 0.21 & 40.17 & 16.57 & 14.11 &         1.35 &       0.40 &            0.40 & Radiative             \\\\\n",
      " 0.04 & 124.18 & 0.08 & 0.33 & 40.07 & 16.53 &  9.47 &         1.42 &       0.40 &            0.40 & Radiative             \\\\\n",
      " 0.06 & 118.08 & 0.09 & 0.41 & 39.99 & 16.50 &  7.13 &         1.49 &       0.40 &            0.40 & Convective            \\\\\n",
      " 0.08 & 112.67 & 0.10 & 0.48 & 39.91 & 16.47 &  5.73 &         1.55 &       0.40 &            0.39 & Convective            \\\\\n",
      " 0.10 & 107.49 & 0.11 & 0.53 & 39.84 & 16.44 &  4.79 &         1.61 &       0.40 &            0.36 & Convective            \\\\\n",
      " 0.12 & 102.57 & 0.11 & 0.58 & 39.76 & 16.41 &  4.09 &         1.66 &       0.40 &            0.35 & Convective            \\\\\n",
      " 0.14 &  97.88 & 0.12 & 0.62 & 39.69 & 16.39 &  3.54 &         1.72 &       0.40 &            0.34 & Convective            \\\\\n",
      " 0.16 &  93.39 & 0.13 & 0.65 & 39.62 & 16.36 &  3.08 &         1.77 &       0.40 &            0.33 & Convective            \\\\\n",
      " 0.18 &  89.06 & 0.13 & 0.68 & 39.55 & 16.34 &  2.70 &         1.82 &       0.40 &            0.32 & Convective            \\\\\n",
      " 0.20 &  84.98 & 0.14 & 0.71 & 39.48 & 16.32 &  2.38 &         1.86 &       0.40 &            0.31 & Convective            \\\\\n",
      " 0.28 &  69.70 & 0.16 & 0.79 & 39.20 & 16.23 &  1.41 &         2.06 &       0.40 &            0.29 & Convective            \\\\\n",
      " 0.36 &  56.33 & 0.18 & 0.83 & 38.90 & 16.15 &  0.82 &         2.24 &       0.40 &            0.27 & Convective            \\\\\n",
      " 0.44 &  44.47 & 0.20 & 0.86 & 38.58 & 16.07 &  0.46 &         2.46 &       0.40 &            0.25 & Convective            \\\\\n",
      " 0.52 &  33.96 & 0.22 & 0.87 & 38.23 & 15.98 &  0.24 &         2.71 &       0.40 &            0.24 & Convective            \\\\\n",
      " 0.60 &  24.85 & 0.25 & 0.88 & 37.82 & 15.89 &  0.11 &         2.97 &       0.40 &            0.22 & Convective            \\\\\n",
      " 0.68 &  17.02 & 0.27 & 0.88 & 37.34 & 15.78 &  0.04 &         3.42 &       0.40 &            0.21 & Convective            \\\\\n",
      " 0.76 &  10.55 & 0.31 & 0.88 & 36.74 & 15.66 &  0.01 &         3.98 &       0.40 &            0.20 & Convective            \\\\\n",
      " 0.84 &   5.47 & 0.35 & 0.88 & 35.92 & 15.50 &  0.00 &         5.08 &       0.40 &            0.19 & Convective            \\\\\n",
      " 0.92 &   1.87 & 0.43 & 0.88 & 34.60 & 15.25 &  0.00 &         7.55 &       0.40 &            0.19 & Convective            \\\\\n",
      "\\hline\n",
      "\\end{tabular}\n",
      "\\enddata\n",
      "\\end{deluxetable*}\n"
     ]
    }
   ],
   "source": [
    "#convert lists to a latex readable table\n",
    "from tabulate import tabulate\n",
    "\n",
    "# Create the table headers and data\n",
    "headers = ['m (solar mass fraction - m/M)', 'rho', 'r (solar radius fraction - r/R)',\n",
    "           'l (solar luminosity fraction l/Ls)', 'P', 'T', 'Energy Generation Rate',\n",
    "           'Opacity', 'Del_ad', 'Nature of the Shell']\n",
    "\n",
    "data = list(zip(m_values, rho_values, r_values, l_values, press_values, temp_values, energy_values,\n",
    "                opacity_values, del_ad_values, temp_grad_values, radCon_values))\n",
    "column_headings = ['m', '$\\rho$', 'r',\n",
    "           'l', 'P', 'T', '$\\epsilon$',\n",
    "           '$\\kappa$', '$\\Delta_{ad}$', 'Nature of the Shell']\n",
    "\n",
    "# Add vertical line before the first column heading\n",
    "column_headings[0] = '| ' + column_headings[0]\n",
    "\n",
    "# Generate the table body\n",
    "table = tabulate(data, headers=column_headings, tablefmt='latex', floatfmt='.2f')\n",
    "\n",
    "# Add deluxetable environment formatting\n",
    "table = '\\\\begin{deluxetable*}{|c|cccccccccc|}\\n\\\\tablecaption{Your Table Caption}\\n\\\\tablewidth{\\\\textwidth}\\n\\\\tablehead{\\\\colhead{} & \\\\colhead{m (solar mass fraction - m/M)} & \\\\colhead{rho} & \\\\colhead{r (solar radius fraction - r/R)} & \\\\colhead{l (solar luminosity fraction l/Ls)} & \\\\colhead{P} & \\\\colhead{T} & \\\\colhead{energy generation rate} & \\\\colhead{opacity} & \\\\colhead{del_ad} & \\\\colhead{temp gradient} & \\\\colhead{convective/radiative nature}}\\n\\\\startdata\\n' + table + '\\n\\\\enddata\\n\\\\end{deluxetable*}'\n",
    "\n",
    "# Print the table\n",
    "print(table)"
   ]
  }
 ],
 "metadata": {
  "colab": {
   "provenance": []
  },
  "kernelspec": {
   "display_name": "Python 3 (ipykernel)",
   "language": "python",
   "name": "python3"
  },
  "language_info": {
   "codemirror_mode": {
    "name": "ipython",
    "version": 2
   },
   "file_extension": ".py",
   "mimetype": "text/x-python",
   "name": "python",
   "nbconvert_exporter": "python",
   "pygments_lexer": "ipython2",
   "version": "2.7.16"
  }
 },
 "nbformat": 4,
 "nbformat_minor": 5
}
